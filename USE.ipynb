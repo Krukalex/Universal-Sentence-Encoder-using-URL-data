{
  "nbformat": 4,
  "nbformat_minor": 0,
  "metadata": {
    "colab": {
      "provenance": [],
      "authorship_tag": "ABX9TyMctFVmp0MwGbZoQB7uSOB0",
      "include_colab_link": true
    },
    "kernelspec": {
      "name": "python3",
      "display_name": "Python 3"
    },
    "language_info": {
      "name": "python"
    }
  },
  "cells": [
    {
      "cell_type": "markdown",
      "metadata": {
        "id": "view-in-github",
        "colab_type": "text"
      },
      "source": [
        "<a href=\"https://colab.research.google.com/github/Krukalex/Universal-Sentence-Encoder-using-URL-data/blob/main/USE.ipynb\" target=\"_parent\"><img src=\"https://colab.research.google.com/assets/colab-badge.svg\" alt=\"Open In Colab\"/></a>"
      ]
    },
    {
      "cell_type": "markdown",
      "source": [
        "General Notes\n",
        "- this code runs and performs it's intended task\n",
        "  - however, this data is run using all of the urls scraped from the asos site, and in practice one would need to have two seperate datasets, one for 404 urls and one for working urls, and would need to map them to each other\n",
        "- one thing that may need to be revisted is the process for extracting the text that we actually want to use for the url\n",
        "  - for instance, I included the asos.com at the beginning of each url, but a strong argument could be made that this should not be included since all of them have it anyway and could be confused for undue similarity\n",
        "  - additionally, a lot of the websites have a strange 'cat' extension on the end of their url. I am not sure exactly what it is or why it is part of the website path, but this could likely be removed by implementing some regular expressions if i were so inclined\n",
        "- One thing that i also considered is converting the strings generated for each url to a set to remove duplicates, since many duplicates seem to be present\n"
      ],
      "metadata": {
        "id": "5M_iv5j7B5vY"
      }
    },
    {
      "cell_type": "markdown",
      "source": [
        "Note on implementation use cases\n",
        "- this can be used for things such as 404 url mapping, where we would determine which urls were most similar to the 404 one to determine where best to redirct the user\n",
        "- it could also be used for general keyword mapping to make sure your keywords are relevant to the page they correspond to \n",
        "  - note that this would require a data set of urls and keywords, instead of 404 urls and working urls"
      ],
      "metadata": {
        "id": "dcec7DnIDTiJ"
      }
    },
    {
      "cell_type": "code",
      "source": [
        "from google.colab import drive\n",
        "drive.mount('/content/drive')"
      ],
      "metadata": {
        "id": "25kr7vTQ2wdk",
        "colab": {
          "base_uri": "https://localhost:8080/"
        },
        "outputId": "8e73a677-6e5d-4ff5-c91d-6bab2abcc5be"
      },
      "execution_count": null,
      "outputs": [
        {
          "output_type": "stream",
          "name": "stdout",
          "text": [
            "Mounted at /content/drive\n"
          ]
        }
      ]
    },
    {
      "cell_type": "code",
      "source": [
        "cd drive/MyDrive/'Data science'/"
      ],
      "metadata": {
        "colab": {
          "base_uri": "https://localhost:8080/"
        },
        "id": "Ep_gNZCl5S9a",
        "outputId": "bec7e0ce-1544-4bd4-b7a0-7d3441c99cc2"
      },
      "execution_count": null,
      "outputs": [
        {
          "output_type": "stream",
          "name": "stdout",
          "text": [
            "/content/drive/MyDrive/Data science\n"
          ]
        }
      ]
    },
    {
      "cell_type": "code",
      "source": [
        "import pandas as pd"
      ],
      "metadata": {
        "id": "udFIk13D5pKa"
      },
      "execution_count": null,
      "outputs": []
    },
    {
      "cell_type": "code",
      "source": [
        "#we will need to isolate the text from all of the urls\n",
        "#will need to use regex\n",
        "\n",
        "import re"
      ],
      "metadata": {
        "id": "uqx5XgMp75TO"
      },
      "execution_count": null,
      "outputs": []
    },
    {
      "cell_type": "code",
      "source": [
        "sitemap=pd.read_xml('sitemap.xml')"
      ],
      "metadata": {
        "id": "CsF6f7S2GMBS"
      },
      "execution_count": null,
      "outputs": []
    },
    {
      "cell_type": "code",
      "source": [
        "sitemap.columns=['URL', 'lastmod', 'priority']"
      ],
      "metadata": {
        "id": "MShDwj_xGnq0"
      },
      "execution_count": null,
      "outputs": []
    },
    {
      "cell_type": "code",
      "source": [
        "sitemap.head()"
      ],
      "metadata": {
        "colab": {
          "base_uri": "https://localhost:8080/",
          "height": 206
        },
        "id": "r1ebjmhBGWgV",
        "outputId": "ceeef72d-19af-4cba-ef27-c3018195f092"
      },
      "execution_count": null,
      "outputs": [
        {
          "output_type": "execute_result",
          "data": {
            "text/plain": [
              "                                   URL                    lastmod  priority\n",
              "0               https://www.asos.com/?  2022-11-04T23:56:56+00:00       1.0\n",
              "1  https://www.asos.com/customer-care/  2022-11-04T23:56:56+00:00       0.8\n",
              "2                https://www.asos.com/  2022-11-04T23:56:56+00:00       0.8\n",
              "3          https://www.asos.com/women/  2022-11-04T23:56:56+00:00       0.8\n",
              "4            https://www.asos.com/men/  2022-11-04T23:56:56+00:00       0.8"
            ],
            "text/html": [
              "\n",
              "  <div id=\"df-e204f9ec-ce54-4c9b-b94a-df2d0e53dfae\">\n",
              "    <div class=\"colab-df-container\">\n",
              "      <div>\n",
              "<style scoped>\n",
              "    .dataframe tbody tr th:only-of-type {\n",
              "        vertical-align: middle;\n",
              "    }\n",
              "\n",
              "    .dataframe tbody tr th {\n",
              "        vertical-align: top;\n",
              "    }\n",
              "\n",
              "    .dataframe thead th {\n",
              "        text-align: right;\n",
              "    }\n",
              "</style>\n",
              "<table border=\"1\" class=\"dataframe\">\n",
              "  <thead>\n",
              "    <tr style=\"text-align: right;\">\n",
              "      <th></th>\n",
              "      <th>URL</th>\n",
              "      <th>lastmod</th>\n",
              "      <th>priority</th>\n",
              "    </tr>\n",
              "  </thead>\n",
              "  <tbody>\n",
              "    <tr>\n",
              "      <th>0</th>\n",
              "      <td>https://www.asos.com/?</td>\n",
              "      <td>2022-11-04T23:56:56+00:00</td>\n",
              "      <td>1.0</td>\n",
              "    </tr>\n",
              "    <tr>\n",
              "      <th>1</th>\n",
              "      <td>https://www.asos.com/customer-care/</td>\n",
              "      <td>2022-11-04T23:56:56+00:00</td>\n",
              "      <td>0.8</td>\n",
              "    </tr>\n",
              "    <tr>\n",
              "      <th>2</th>\n",
              "      <td>https://www.asos.com/</td>\n",
              "      <td>2022-11-04T23:56:56+00:00</td>\n",
              "      <td>0.8</td>\n",
              "    </tr>\n",
              "    <tr>\n",
              "      <th>3</th>\n",
              "      <td>https://www.asos.com/women/</td>\n",
              "      <td>2022-11-04T23:56:56+00:00</td>\n",
              "      <td>0.8</td>\n",
              "    </tr>\n",
              "    <tr>\n",
              "      <th>4</th>\n",
              "      <td>https://www.asos.com/men/</td>\n",
              "      <td>2022-11-04T23:56:56+00:00</td>\n",
              "      <td>0.8</td>\n",
              "    </tr>\n",
              "  </tbody>\n",
              "</table>\n",
              "</div>\n",
              "      <button class=\"colab-df-convert\" onclick=\"convertToInteractive('df-e204f9ec-ce54-4c9b-b94a-df2d0e53dfae')\"\n",
              "              title=\"Convert this dataframe to an interactive table.\"\n",
              "              style=\"display:none;\">\n",
              "        \n",
              "  <svg xmlns=\"http://www.w3.org/2000/svg\" height=\"24px\"viewBox=\"0 0 24 24\"\n",
              "       width=\"24px\">\n",
              "    <path d=\"M0 0h24v24H0V0z\" fill=\"none\"/>\n",
              "    <path d=\"M18.56 5.44l.94 2.06.94-2.06 2.06-.94-2.06-.94-.94-2.06-.94 2.06-2.06.94zm-11 1L8.5 8.5l.94-2.06 2.06-.94-2.06-.94L8.5 2.5l-.94 2.06-2.06.94zm10 10l.94 2.06.94-2.06 2.06-.94-2.06-.94-.94-2.06-.94 2.06-2.06.94z\"/><path d=\"M17.41 7.96l-1.37-1.37c-.4-.4-.92-.59-1.43-.59-.52 0-1.04.2-1.43.59L10.3 9.45l-7.72 7.72c-.78.78-.78 2.05 0 2.83L4 21.41c.39.39.9.59 1.41.59.51 0 1.02-.2 1.41-.59l7.78-7.78 2.81-2.81c.8-.78.8-2.07 0-2.86zM5.41 20L4 18.59l7.72-7.72 1.47 1.35L5.41 20z\"/>\n",
              "  </svg>\n",
              "      </button>\n",
              "      \n",
              "  <style>\n",
              "    .colab-df-container {\n",
              "      display:flex;\n",
              "      flex-wrap:wrap;\n",
              "      gap: 12px;\n",
              "    }\n",
              "\n",
              "    .colab-df-convert {\n",
              "      background-color: #E8F0FE;\n",
              "      border: none;\n",
              "      border-radius: 50%;\n",
              "      cursor: pointer;\n",
              "      display: none;\n",
              "      fill: #1967D2;\n",
              "      height: 32px;\n",
              "      padding: 0 0 0 0;\n",
              "      width: 32px;\n",
              "    }\n",
              "\n",
              "    .colab-df-convert:hover {\n",
              "      background-color: #E2EBFA;\n",
              "      box-shadow: 0px 1px 2px rgba(60, 64, 67, 0.3), 0px 1px 3px 1px rgba(60, 64, 67, 0.15);\n",
              "      fill: #174EA6;\n",
              "    }\n",
              "\n",
              "    [theme=dark] .colab-df-convert {\n",
              "      background-color: #3B4455;\n",
              "      fill: #D2E3FC;\n",
              "    }\n",
              "\n",
              "    [theme=dark] .colab-df-convert:hover {\n",
              "      background-color: #434B5C;\n",
              "      box-shadow: 0px 1px 3px 1px rgba(0, 0, 0, 0.15);\n",
              "      filter: drop-shadow(0px 1px 2px rgba(0, 0, 0, 0.3));\n",
              "      fill: #FFFFFF;\n",
              "    }\n",
              "  </style>\n",
              "\n",
              "      <script>\n",
              "        const buttonEl =\n",
              "          document.querySelector('#df-e204f9ec-ce54-4c9b-b94a-df2d0e53dfae button.colab-df-convert');\n",
              "        buttonEl.style.display =\n",
              "          google.colab.kernel.accessAllowed ? 'block' : 'none';\n",
              "\n",
              "        async function convertToInteractive(key) {\n",
              "          const element = document.querySelector('#df-e204f9ec-ce54-4c9b-b94a-df2d0e53dfae');\n",
              "          const dataTable =\n",
              "            await google.colab.kernel.invokeFunction('convertToInteractive',\n",
              "                                                     [key], {});\n",
              "          if (!dataTable) return;\n",
              "\n",
              "          const docLinkHtml = 'Like what you see? Visit the ' +\n",
              "            '<a target=\"_blank\" href=https://colab.research.google.com/notebooks/data_table.ipynb>data table notebook</a>'\n",
              "            + ' to learn more about interactive tables.';\n",
              "          element.innerHTML = '';\n",
              "          dataTable['output_type'] = 'display_data';\n",
              "          await google.colab.output.renderOutput(dataTable, element);\n",
              "          const docLink = document.createElement('div');\n",
              "          docLink.innerHTML = docLinkHtml;\n",
              "          element.appendChild(docLink);\n",
              "        }\n",
              "      </script>\n",
              "    </div>\n",
              "  </div>\n",
              "  "
            ]
          },
          "metadata": {},
          "execution_count": 7
        }
      ]
    },
    {
      "cell_type": "markdown",
      "source": [
        "Need to extract the host name and the path from each of these urls, strip them of special characters and add them as a new column in the dataframe"
      ],
      "metadata": {
        "id": "w3kw0B_BJO00"
      }
    },
    {
      "cell_type": "markdown",
      "source": [
        "Here is a proof of concept for one row"
      ],
      "metadata": {
        "id": "pCN4awU4JcxZ"
      }
    },
    {
      "cell_type": "code",
      "source": [
        "sitemap['URL'][100]"
      ],
      "metadata": {
        "colab": {
          "base_uri": "https://localhost:8080/",
          "height": 35
        },
        "id": "VwDGmcKEGS0E",
        "outputId": "afcb8466-3540-48f4-8507-48f43bd6fa5e"
      },
      "execution_count": null,
      "outputs": [
        {
          "output_type": "execute_result",
          "data": {
            "text/plain": [
              "'https://www.asos.com/women/workwear/cat/?cid=19645&refine=attribute_1047:8416'"
            ],
            "application/vnd.google.colaboratory.intrinsic+json": {
              "type": "string"
            }
          },
          "metadata": {},
          "execution_count": 8
        }
      ]
    },
    {
      "cell_type": "code",
      "source": [
        "from urllib.parse import urlparse\n",
        "path = urlparse(sitemap['URL'][0])[1:3]\n",
        "path\n",
        "\n"
      ],
      "metadata": {
        "colab": {
          "base_uri": "https://localhost:8080/"
        },
        "outputId": "3dba67cd-6279-40c3-c45b-dae86ce2c442",
        "id": "dUKI8KmvHIEf"
      },
      "execution_count": null,
      "outputs": [
        {
          "output_type": "execute_result",
          "data": {
            "text/plain": [
              "('www.asos.com', '/')"
            ]
          },
          "metadata": {},
          "execution_count": 150
        }
      ]
    },
    {
      "cell_type": "code",
      "source": [
        "path[0]+path[1]"
      ],
      "metadata": {
        "colab": {
          "base_uri": "https://localhost:8080/",
          "height": 35
        },
        "id": "pRLf3UOcI-vQ",
        "outputId": "faeb3f0c-898e-4c0f-bd0d-be5fcce2e525"
      },
      "execution_count": null,
      "outputs": [
        {
          "output_type": "execute_result",
          "data": {
            "text/plain": [
              "'www.asos.com/'"
            ],
            "application/vnd.google.colaboratory.intrinsic+json": {
              "type": "string"
            }
          },
          "metadata": {},
          "execution_count": 151
        }
      ]
    },
    {
      "cell_type": "markdown",
      "source": [
        "Will attempt to implement lambda function to do this for every row"
      ],
      "metadata": {
        "id": "d35oCgw-JoKg"
      }
    },
    {
      "cell_type": "code",
      "source": [
        "def get_path(x):\n",
        "  path = urlparse(x)[1:3]\n",
        "  return(path)"
      ],
      "metadata": {
        "id": "AdfBvsGvJz9T"
      },
      "execution_count": null,
      "outputs": []
    },
    {
      "cell_type": "code",
      "source": [
        "x=get_path(sitemap['URL'][1])[0]+get_path(sitemap['URL'][1])[1]"
      ],
      "metadata": {
        "id": "BtGQSt0xKFFr"
      },
      "execution_count": null,
      "outputs": []
    },
    {
      "cell_type": "code",
      "source": [
        "x"
      ],
      "metadata": {
        "colab": {
          "base_uri": "https://localhost:8080/",
          "height": 35
        },
        "id": "FP5Ran96K34P",
        "outputId": "0f758494-4361-4db4-c360-57901257a771"
      },
      "execution_count": null,
      "outputs": [
        {
          "output_type": "execute_result",
          "data": {
            "text/plain": [
              "'www.asos.com/customer-care/'"
            ],
            "application/vnd.google.colaboratory.intrinsic+json": {
              "type": "string"
            }
          },
          "metadata": {},
          "execution_count": 155
        }
      ]
    },
    {
      "cell_type": "code",
      "source": [
        "#this is ugly but it works, combines all of the steps laid out above in one long function\n",
        "#there may be a more elegant implementation of this\n",
        "\n",
        "sitemap['string']=sitemap['URL'].apply(lambda x: \" \".join(re.findall(\"[a-zA-Z]+\", get_path(x)[0]+get_path(x)[1])))"
      ],
      "metadata": {
        "id": "8SjldxrdJlV9"
      },
      "execution_count": null,
      "outputs": []
    },
    {
      "cell_type": "markdown",
      "source": [
        "We now have all of the urls formatted as sentences instead of html links. Now we will need to pass them into the universal sentence encoder"
      ],
      "metadata": {
        "id": "kS6XdTK7M9Lx"
      }
    },
    {
      "cell_type": "code",
      "source": [
        "%%capture\n",
        "!pip3 install seaborn"
      ],
      "metadata": {
        "id": "rQAxKqe-NXnw"
      },
      "execution_count": null,
      "outputs": []
    },
    {
      "cell_type": "code",
      "source": [
        "#@title Load the Universal Sentence Encoder's TF Hub module\n",
        "from absl import logging\n",
        "\n",
        "import tensorflow as tf\n",
        "\n",
        "import tensorflow_hub as hub\n",
        "import matplotlib.pyplot as plt\n",
        "import numpy as np\n",
        "import os\n",
        "import pandas as pd\n",
        "import re\n",
        "import seaborn as sns\n",
        "\n",
        "module_url = \"https://tfhub.dev/google/universal-sentence-encoder/4\" #@param [\"https://tfhub.dev/google/universal-sentence-encoder/4\", \"https://tfhub.dev/google/universal-sentence-encoder-large/5\"]\n",
        "model = hub.load(module_url)\n",
        "print (\"module %s loaded\" % module_url)\n",
        "def embed(input):\n",
        "  return model(input)"
      ],
      "metadata": {
        "colab": {
          "base_uri": "https://localhost:8080/"
        },
        "id": "1hEEhjHeNIST",
        "outputId": "66487398-b2f0-4db9-d254-1f76d1f42b40"
      },
      "execution_count": null,
      "outputs": [
        {
          "output_type": "stream",
          "name": "stdout",
          "text": [
            "module https://tfhub.dev/google/universal-sentence-encoder/4 loaded\n"
          ]
        }
      ]
    },
    {
      "cell_type": "code",
      "source": [
        "def plot_similarity(labels, features, rotation):\n",
        "  #when the inner product is calculated for 2 nxp matrices inputs, the output is an nxn array, with each number being the similarity score between the sentence in the column and the row\n",
        "  corr = np.inner(features, features)\n",
        "  sns.set(font_scale=1.2)\n",
        "  g = sns.heatmap(\n",
        "      corr,\n",
        "      xticklabels=labels,\n",
        "      yticklabels=labels,\n",
        "      vmin=0,\n",
        "      vmax=1,\n",
        "      cmap=\"YlOrRd\")\n",
        "  g.set_xticklabels(labels, rotation=rotation)\n",
        "  g.set_title(\"Semantic Textual Similarity\")\n",
        "\n",
        "def run_and_plot(messages_):\n",
        "  message_embeddings_ = embed(messages_)\n",
        "  plot_similarity(messages_, message_embeddings_, 90)"
      ],
      "metadata": {
        "id": "SNRXR60fNe40"
      },
      "execution_count": null,
      "outputs": []
    },
    {
      "cell_type": "markdown",
      "source": [
        "#try doing a visualization for the first 5 urls"
      ],
      "metadata": {
        "id": "Ej1BZ6tvNuZn"
      }
    },
    {
      "cell_type": "markdown",
      "source": [
        "Nice visual, but what we really want are the N most similar URLs for any given input"
      ],
      "metadata": {
        "id": "uL2U2n8KO9HU"
      }
    },
    {
      "cell_type": "code",
      "source": [
        "#not particularly helpful for our purposes but it shows that the algorithm is working as intended\n",
        "#for example we can see that customer care returns refunds is most similar to customer care, which is what we expect\n",
        "#might consider not using the host name since all of these will have some level of similarty since they are all www.asos.com\n",
        "\n",
        "run_and_plot(sitemap['string'][0:6])"
      ],
      "metadata": {
        "colab": {
          "base_uri": "https://localhost:8080/",
          "height": 582
        },
        "id": "20wPyWnWNoLH",
        "outputId": "d3f08940-4262-43f0-ddf9-aad0352f8bfd"
      },
      "execution_count": null,
      "outputs": [
        {
          "output_type": "display_data",
          "data": {
            "text/plain": [
              "<Figure size 432x288 with 2 Axes>"
            ],
            "image/png": "[encoded data removed]"
          },
          "metadata": {}
        }
      ]
    },
    {
      "cell_type": "code",
      "source": [
        "#got this code from:\n",
        "#https://www.searchenginejournal.com/map-404-urls-at-scale-sentence-embeddings/\n",
        "## I did however make some modifications to this code, so it will not look exactly how the sample code on the linked website does\n",
        "#returns to top 5 closest matching urls, the similarity score, and the index of the url\n",
        "\n",
        "import heapq\n",
        "\n",
        "TOP_N = 5\n",
        "BEST_ONLY = False\n",
        "THRESHOLD_PROBABILITY = 0.65\n",
        "\n",
        "def get_similarity_suggestion(phrase, all_phrases, no_percentage=False):\n",
        "  message_embeddings_ = embed(all_phrases) #embed the vector of all phraes \n",
        "  phrase_embeddings= embed(phrase) #embed the specific phrase in question\n",
        "  result = np.inner(phrase_embeddings, message_embeddings_) #1x500 array, with a score for the similarity between phrase in question with all 500 phrases in the dataset\n",
        "  result=result.reshape(result.shape[1], result.shape[0]) #for some reason it only works if you reshape the array from 1x500 to 500x1\n",
        "\n",
        "\n",
        "  top_N_indexes = heapq.nlargest(TOP_N, range(len(result)), result.take) #finds the indices of the top 5 scores\n",
        "\n",
        "  #iterate through the indices to find their associated url and semantic similarity score\n",
        "  to_return = list()\n",
        "  for i in top_N_indexes:\n",
        "      matched = sitemap['URL'].iloc[i]\n",
        "      if no_percentage:\n",
        "          to_return.append(matched['phrase'])\n",
        "      else:\n",
        "          to_return.append([str(matched), '%.2f' % float(result.take([i])*100), i])\n",
        "  return to_return"
      ],
      "metadata": {
        "id": "Y9LP5shIROp_"
      },
      "execution_count": null,
      "outputs": []
    },
    {
      "cell_type": "markdown",
      "source": [
        "Example of this code in action"
      ],
      "metadata": {
        "id": "cDmfGxJQEo7A"
      }
    },
    {
      "cell_type": "code",
      "source": [
        "sitemap['string'][100:101]"
      ],
      "metadata": {
        "colab": {
          "base_uri": "https://localhost:8080/"
        },
        "id": "e4jHzOBKAllr",
        "outputId": "3bb5a3fc-ce55-457b-ec74-06a5867ec969"
      },
      "execution_count": null,
      "outputs": [
        {
          "output_type": "execute_result",
          "data": {
            "text/plain": [
              "100    www asos com women workwear cat\n",
              "Name: string, dtype: object"
            ]
          },
          "metadata": {},
          "execution_count": 229
        }
      ]
    },
    {
      "cell_type": "code",
      "source": [
        "#top 5 results, with their url, sematic similarity score, and their index in the dataframe\n",
        "\n",
        "get_similarity_suggestion(sitemap['string'][100:101], sitemap['string'])"
      ],
      "metadata": {
        "colab": {
          "base_uri": "https://localhost:8080/"
        },
        "id": "L-wj7qdxYY0W",
        "outputId": "a1c99233-314e-4c1a-f7f8-f0ad8c2c8b37"
      },
      "execution_count": null,
      "outputs": [
        {
          "output_type": "execute_result",
          "data": {
            "text/plain": [
              "[['https://www.asos.com/women/workwear/cat/?cid=19645', '100.00', 81],\n",
              " ['https://www.asos.com/women/workwear/cat/?cid=19645&refine=attribute_1047:8416',\n",
              "  '100.00',\n",
              "  100],\n",
              " ['https://www.asos.com/women/loungewear/cat/?cid=21867', '94.41', 65],\n",
              " ['https://www.asos.com/women/multipacks/cat/?cid=19224', '93.31', 66],\n",
              " ['https://www.asos.com/women/tracksuits/cat/?cid=27953', '92.83', 55]]"
            ]
          },
          "metadata": {},
          "execution_count": 231
        }
      ]
    }
  ]
}